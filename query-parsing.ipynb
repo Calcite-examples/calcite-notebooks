{
 "cells": [
  {
   "cell_type": "markdown",
   "metadata": {},
   "source": [
    "First we start by using the `%maven` magic to add the latest Calcite version as a dependency."
   ]
  },
  {
   "cell_type": "code",
   "execution_count": 1,
   "metadata": {},
   "outputs": [],
   "source": [
    "%maven org.apache.calcite:calcite-core:1.19.0"
   ]
  },
  {
   "cell_type": "markdown",
   "metadata": {},
   "source": [
    "We now construct a `SqlParser` instance and parse a simple query."
   ]
  },
  {
   "cell_type": "code",
   "execution_count": 2,
   "metadata": {},
   "outputs": [],
   "source": [
    "import org.apache.calcite.sql.SqlNode;\n",
    "import org.apache.calcite.sql.parser.SqlParser;\n",
    "\n",
    "SqlParser parser = SqlParser.create(\"SELECT * FROM \\\"foo\\\" WHERE \\\"bar\\\"=3 GROUP BY \\\"baz\\\"\");\n",
    "SqlNode query = parser.parseQuery();"
   ]
  },
  {
   "cell_type": "markdown",
   "metadata": {},
   "source": [
    "The result gives a `SqlNode` that represents the parsed query. There are a number of useful things we can do with this. Firstly, we can convert it back into a string. Note that this string will by default use the ANSI SQL dialect and apply some pretty printing, so it won't be the exact SQL we started out with."
   ]
  },
  {
   "cell_type": "code",
   "execution_count": 3,
   "metadata": {},
   "outputs": [
    {
     "data": {
      "text/plain": [
       "SELECT *\n",
       "FROM `foo`\n",
       "WHERE `bar` = 3\n",
       "GROUP BY `baz`"
      ]
     },
     "execution_count": 3,
     "metadata": {},
     "output_type": "execute_result"
    }
   ],
   "source": [
    "query.toString()"
   ]
  },
  {
   "cell_type": "markdown",
   "metadata": {},
   "source": [
    "From here, there are two main approaches we can take to getting what we want out of the query.\n",
    "Since we know this is a `SELECT` statement, we can cast the `SqlNode` to `SqlSelect` and pull what we need from there.\n",
    "You can see more of the available methods [in the Javadoc](https://calcite.apache.org/apidocs/org/apache/calcite/sql/SqlSelect.html)."
   ]
  },
  {
   "cell_type": "code",
   "execution_count": 4,
   "metadata": {},
   "outputs": [
    {
     "name": "stdout",
     "output_type": "stream",
     "text": [
      "*\n",
      "`bar` = 3\n",
      "`baz`\n"
     ]
    }
   ],
   "source": [
    "import org.apache.calcite.sql.SqlSelect;\n",
    "\n",
    "SqlSelect select = (SqlSelect) query;\n",
    "\n",
    "System.out.println(select.getSelectList());\n",
    "System.out.println(select.getWhere());\n",
    "System.out.println(select.getGroup());"
   ]
  },
  {
   "cell_type": "markdown",
   "metadata": {},
   "source": [
    "Another approach is to implement the `SqlVisitor` interface.\n",
    "The visitor below simply prints all literals and identifiers it encounters."
   ]
  },
  {
   "cell_type": "code",
   "execution_count": 5,
   "metadata": {},
   "outputs": [
    {
     "name": "stdout",
     "output_type": "stream",
     "text": [
      "Identifier: *\n",
      "Identifier: foo\n",
      "Identifier: bar\n",
      "Literal: 3\n",
      "Identifier: baz\n"
     ]
    }
   ],
   "source": [
    "import org.apache.calcite.sql.SqlIdentifier;\n",
    "import org.apache.calcite.sql.SqlLiteral;\n",
    "import org.apache.calcite.sql.util.SqlBasicVisitor;\n",
    "\n",
    "class PrintingVisitor extends SqlBasicVisitor<Void> {\n",
    "  public Void visit(SqlLiteral literal) {\n",
    "    System.out.println(\"Literal: \" + literal);\n",
    "    return null;\n",
    "  }\n",
    "  \n",
    "  public Void visit(SqlIdentifier id) {\n",
    "    System.out.println(\"Identifier: \" + id);\n",
    "    return null;\n",
    "  }\n",
    "}\n",
    "\n",
    "query.accept(new PrintingVisitor());"
   ]
  }
 ],
 "metadata": {
  "kernelspec": {
   "display_name": "Java",
   "language": "java",
   "name": "java"
  },
  "language_info": {
   "codemirror_mode": "java",
   "file_extension": ".java",
   "mimetype": "text/x-java-source",
   "name": "Java",
   "pygments_lexer": "java",
   "version": "10.0.2+13"
  }
 },
 "nbformat": 4,
 "nbformat_minor": 2
}
